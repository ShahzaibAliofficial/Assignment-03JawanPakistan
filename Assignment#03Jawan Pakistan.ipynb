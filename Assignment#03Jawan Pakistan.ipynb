{
 "cells": [
  {
   "cell_type": "markdown",
   "id": "d5fbbd73-e1b1-48a8-bca9-5a1740594282",
   "metadata": {},
   "source": [
    "# Answer # 01:"
   ]
  },
  {
   "cell_type": "code",
   "execution_count": 267,
   "id": "49fedd4e-da8b-4ef6-b2ce-7f1fd3dad612",
   "metadata": {},
   "outputs": [
    {
     "name": "stdout",
     "output_type": "stream",
     "text": [
      "Twinkle, Twinkle, Little, Star,\n",
      "         How I Wonder What You Are!\n",
      "                 Up Above The World So High\n",
      "                 Like a Diamond in The Sky\n",
      "Twinkle, Twinkle, Little, Star,\n",
      "         How I Wonder What You Are\n",
      "\n"
     ]
    }
   ],
   "source": [
    "Poem=(\"Twinkle, Twinkle, Little, Star,\\n\"\n",
    "     \"         How I Wonder What You Are!\\n\"\n",
    "     \"                 Up Above The World So High\\n\"\n",
    "     \"                 Like a Diamond in The Sky\\n\"\n",
    "     \"Twinkle, Twinkle, Little, Star,\\n\"\n",
    "     \"         How I Wonder What You Are\\n\")\n",
    "\n",
    "print(Poem)"
   ]
  },
  {
   "cell_type": "markdown",
   "id": "d185e225-0ed9-49d4-8f61-b0f7dc7e7404",
   "metadata": {},
   "source": [
    "# Answer # 02:"
   ]
  },
  {
   "cell_type": "code",
   "execution_count": 269,
   "id": "1b92cae0-9c55-4bc8-a52c-b0f0d45e32c3",
   "metadata": {},
   "outputs": [
    {
     "name": "stdout",
     "output_type": "stream",
     "text": [
      "Python Version\n",
      "3.12.4 | packaged by Anaconda, Inc. | (main, Jun 18 2024, 15:03:56) [MSC v.1929 64 bit (AMD64)]\n"
     ]
    }
   ],
   "source": [
    "import sys\n",
    "print(\"Python Version\")\n",
    "print(sys.version)"
   ]
  },
  {
   "cell_type": "markdown",
   "id": "b60064ad-3e0d-42f3-a07f-ed3c2c8e4ba1",
   "metadata": {},
   "source": [
    "# Answer # 03:"
   ]
  },
  {
   "cell_type": "code",
   "execution_count": 271,
   "id": "e3c2c049-a7ab-41fd-a4c8-059bc7587199",
   "metadata": {},
   "outputs": [
    {
     "name": "stdout",
     "output_type": "stream",
     "text": [
      "Current Date & Time is 02-08-2024 / 16:43:20\n"
     ]
    }
   ],
   "source": [
    "from datetime import datetime\n",
    "now = datetime.now()\n",
    "Current_Time = now.strftime(\"%d-%m-%Y / %H:%M:%S\")\n",
    "print(\"Current Date & Time is\",Current_Time)"
   ]
  },
  {
   "cell_type": "markdown",
   "id": "65122208-89f1-4f23-a0e5-b04d6820231a",
   "metadata": {},
   "source": [
    "# Answer # 04:"
   ]
  },
  {
   "cell_type": "code",
   "execution_count": 273,
   "id": "57236ef8-a2d1-4688-847e-ac8eb4e22f06",
   "metadata": {},
   "outputs": [
    {
     "name": "stdin",
     "output_type": "stream",
     "text": [
      "Enter the radius of the Circle:  12\n"
     ]
    },
    {
     "name": "stdout",
     "output_type": "stream",
     "text": [
      "The area of the circle with radius 12.0 is: 452.39\n"
     ]
    }
   ],
   "source": [
    "import math\n",
    "radius =float(input(\"Enter the radius of the Circle: \"))\n",
    "area = math.pi * radius ** 2\n",
    "print(f\"The area of the circle with radius {radius} is: {area:.2f}\")"
   ]
  },
  {
   "cell_type": "markdown",
   "id": "62603239-30b2-4d82-a282-ffcac76978a5",
   "metadata": {},
   "source": [
    "# Answer # 05:"
   ]
  },
  {
   "cell_type": "code",
   "execution_count": 275,
   "id": "a5ea3f9b-139f-4b1a-88f5-b8a42ba17932",
   "metadata": {},
   "outputs": [
    {
     "name": "stdin",
     "output_type": "stream",
     "text": [
      "Enter The User First Name : Shahzaib \n",
      "Enter The User Last Name : Ali\n"
     ]
    },
    {
     "name": "stdout",
     "output_type": "stream",
     "text": [
      "Ali Shahzaib \n"
     ]
    }
   ],
   "source": [
    "First_Name=input(\"Enter The User First Name :\")\n",
    "Last_Name=input(\"Enter The User Last Name :\")\n",
    "print(Last_Name,First_Name)"
   ]
  },
  {
   "cell_type": "markdown",
   "id": "b5ce2842-f1fc-4dab-ac59-d65f9ba13b5f",
   "metadata": {},
   "source": [
    "# Answer # 06:"
   ]
  },
  {
   "cell_type": "code",
   "execution_count": 277,
   "id": "0b910228-d1b1-4b93-8b9d-48c78dd16afd",
   "metadata": {},
   "outputs": [
    {
     "name": "stdout",
     "output_type": "stream",
     "text": [
      "40\n"
     ]
    }
   ],
   "source": [
    "num1 = 15\n",
    "num2 = 25\n",
    "result = num1 + num2\n",
    "print(result)"
   ]
  },
  {
   "cell_type": "markdown",
   "id": "0a25f8d5-8b45-456a-97d2-287429ccfde5",
   "metadata": {},
   "source": [
    "# Answer # 07:"
   ]
  },
  {
   "cell_type": "code",
   "execution_count": 279,
   "id": "8a60c20d-cbc8-41dd-9694-44cfecb712f0",
   "metadata": {},
   "outputs": [
    {
     "name": "stdin",
     "output_type": "stream",
     "text": [
      "Enter marks for subject 1:  78\n",
      "Enter marks for subject 2:  98\n",
      "Enter marks for subject 3:  65\n",
      "Enter marks for subject 4:  78\n",
      "Enter marks for subject 5:  89\n"
     ]
    },
    {
     "name": "stdout",
     "output_type": "stream",
     "text": [
      "\n",
      "Mark Sheet\n",
      "----------\n",
      "Subject 1: 78.0\n",
      "Subject 2: 98.0\n",
      "Subject 3: 65.0\n",
      "Subject 4: 78.0\n",
      "Subject 5: 89.0\n",
      "Total Marks: 408.0\n",
      "Average Marks: 81.60\n",
      "Grade: A\n"
     ]
    }
   ],
   "source": [
    "# Function to calculate grade based on average marks\n",
    "def calculate_grade(average):\n",
    "    if average >= 90:\n",
    "        return \"A+\"\n",
    "    elif average >= 80:\n",
    "        return \"A\"\n",
    "    elif average >= 70:\n",
    "        return \"B\"\n",
    "    elif average >= 60:\n",
    "        return \"C\"\n",
    "    elif average >= 50:\n",
    "        return \"D\"\n",
    "    else:\n",
    "        return \"F\"\n",
    "\n",
    "# List to store subject marks\n",
    "marks = []\n",
    "\n",
    "# Get marks for 5 subjects from the user\n",
    "for i in range(1, 6):\n",
    "    while True:\n",
    "        try:\n",
    "            mark = float(input(f\"Enter marks for subject {i}: \"))\n",
    "            if 0 <= mark <= 100:  # Check if the mark is between 0 and 100\n",
    "                marks.append(mark)\n",
    "                break\n",
    "            else:\n",
    "                print(\"Please enter a valid mark between 0 and 100.\")\n",
    "        except ValueError:\n",
    "            print(\"Invalid input. Please enter a numeric value.\")\n",
    "\n",
    "# Calculate total and average marks\n",
    "total_marks = sum(marks)\n",
    "average_marks = total_marks / len(marks)\n",
    "\n",
    "# Determine the grade\n",
    "grade = calculate_grade(average_marks)\n",
    "\n",
    "# Display the mark sheet\n",
    "print(\"\\nMark Sheet\")\n",
    "print(\"----------\")\n",
    "for i, mark in enumerate(marks, start=1):\n",
    "    print(f\"Subject {i}: {mark}\")\n",
    "\n",
    "print(f\"Total Marks: {total_marks}\")\n",
    "print(f\"Average Marks: {average_marks:.2f}\")\n",
    "print(f\"Grade: {grade}\")\n"
   ]
  },
  {
   "cell_type": "markdown",
   "id": "172c1983-8e81-4c93-abaf-5e78b950d069",
   "metadata": {},
   "source": [
    "# Answer # 08:"
   ]
  },
  {
   "cell_type": "code",
   "execution_count": 281,
   "id": "deb8c5e4-30cc-4e64-b413-7e9eb53ad9e5",
   "metadata": {},
   "outputs": [
    {
     "name": "stdin",
     "output_type": "stream",
     "text": [
      "Enter the number :  12\n"
     ]
    },
    {
     "name": "stdout",
     "output_type": "stream",
     "text": [
      "This Number  is Even\n"
     ]
    }
   ],
   "source": [
    "number = int(input(\"Enter the number : \"))\n",
    "if number % 2 == 0:\n",
    "             print(\"This Number  is Even\")\n",
    "else:\n",
    "             print(\"This number  is Odd\")"
   ]
  },
  {
   "cell_type": "markdown",
   "id": "1dede3f8-4ba4-4a58-9552-64de3dd879c0",
   "metadata": {},
   "source": [
    "# Answer # 09:"
   ]
  },
  {
   "cell_type": "code",
   "execution_count": 283,
   "id": "d6fed698-492e-4028-bd80-d42b875dd483",
   "metadata": {},
   "outputs": [
    {
     "name": "stdout",
     "output_type": "stream",
     "text": [
      "The length of the lis is: 8\n"
     ]
    }
   ],
   "source": [
    "list =  [1,2,3,4,5,6,7,8,]\n",
    "length_of_list = len(list)\n",
    "print(f\"The length of the lis is: {length_of_list}\")"
   ]
  },
  {
   "cell_type": "markdown",
   "id": "dc14ba73-ebcd-49be-882e-6c725a8452d5",
   "metadata": {},
   "source": [
    "# Answer # 10:"
   ]
  },
  {
   "cell_type": "code",
   "execution_count": 285,
   "id": "86358c25-cd15-417a-8071-2c2ea2b714dd",
   "metadata": {},
   "outputs": [
    {
     "name": "stdout",
     "output_type": "stream",
     "text": [
      "The sum of the lis is: 36\n"
     ]
    }
   ],
   "source": [
    "list =  [1,2,3,4,5,6,7,8,]\n",
    "sum_of_list = sum(list)\n",
    "print(f\"The sum of the lis is: {sum_of_list}\")"
   ]
  },
  {
   "cell_type": "markdown",
   "id": "34b49238-5296-4f52-8f4e-0a32067f3534",
   "metadata": {},
   "source": [
    "# Answer # 11:"
   ]
  },
  {
   "cell_type": "code",
   "execution_count": 287,
   "id": "0958f607-f989-4785-862e-9672f1190f03",
   "metadata": {},
   "outputs": [
    {
     "name": "stdout",
     "output_type": "stream",
     "text": [
      "The max value of the list is: 8\n"
     ]
    }
   ],
   "source": [
    "list =  [1,2,3,4,5,6,7,8,]\n",
    "max_value_of_list = max(list)\n",
    "print(f\"The max value of the list is: {max_value_of_list}\")"
   ]
  },
  {
   "cell_type": "markdown",
   "id": "07f07080-8def-4cf1-b386-61672792c177",
   "metadata": {},
   "source": [
    "# Answer # 12:"
   ]
  },
  {
   "cell_type": "code",
   "execution_count": 293,
   "id": "40e3228b-9f01-4362-882e-6adf868b1a13",
   "metadata": {},
   "outputs": [
    {
     "name": "stdout",
     "output_type": "stream",
     "text": [
      "Elements less than 5 are:\n",
      "1\n",
      "1\n",
      "2\n",
      "3\n"
     ]
    }
   ],
   "source": [
    "a = [1, 1, 2, 3, 5, 8, 13, 21, 34, 55, 89]\n",
    "\n",
    "print(\"Elements less than 5 are:\")\n",
    "for item in a:\n",
    "    if item < 5:\n",
    "        print(item)"
   ]
  },
  {
   "cell_type": "code",
   "execution_count": null,
   "id": "38bc267d-d558-4163-b454-8285f6220fb2",
   "metadata": {},
   "outputs": [],
   "source": []
  }
 ],
 "metadata": {
  "kernelspec": {
   "display_name": "Python 3 (ipykernel)",
   "language": "python",
   "name": "python3"
  },
  "language_info": {
   "codemirror_mode": {
    "name": "ipython",
    "version": 3
   },
   "file_extension": ".py",
   "mimetype": "text/x-python",
   "name": "python",
   "nbconvert_exporter": "python",
   "pygments_lexer": "ipython3",
   "version": "3.12.4"
  }
 },
 "nbformat": 4,
 "nbformat_minor": 5
}
